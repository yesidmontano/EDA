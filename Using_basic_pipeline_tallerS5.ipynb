{
 "cells": [
  {
   "cell_type": "code",
   "execution_count": 1,
   "metadata": {},
   "outputs": [],
   "source": [
    "import numpy as np\n",
    "import pandas as pd\n",
    "import warnings\n",
    "import math\n",
    "warnings.filterwarnings('ignore')\n",
    "from sklearn.metrics import mean_squared_error\n",
    "\n",
    "from sklearn.preprocessing import StandardScaler, PowerTransformer\n",
    "from sklearn.compose import TransformedTargetRegressor\n",
    "from sklearn.pipeline import FeatureUnion, Pipeline, make_pipeline\n",
    "from sklearn.base import BaseEstimator, TransformerMixin\n",
    "\n",
    "from sklearn.linear_model import LinearRegression"
   ]
  },
  {
   "cell_type": "code",
   "execution_count": 22,
   "metadata": {},
   "outputs": [],
   "source": [
    "x1 = np.linspace(1,100,10)\n",
    "x2 = np.linspace(1,100,10)\n",
    "y = x1 + 4 * np.cbrt(x2)#[9,15,18,14,18,13,24,32,41]\n",
    "\n",
    "\n",
    "data = pd.DataFrame({'x1': x1,'x2':x2, 'y':y})\n"
   ]
  },
  {
   "cell_type": "code",
   "execution_count": 23,
   "metadata": {},
   "outputs": [],
   "source": [
    "df = pd.DataFrame(data)"
   ]
  },
  {
   "cell_type": "code",
   "execution_count": 24,
   "metadata": {},
   "outputs": [
    {
     "data": {
      "text/html": [
       "<div>\n",
       "<style scoped>\n",
       "    .dataframe tbody tr th:only-of-type {\n",
       "        vertical-align: middle;\n",
       "    }\n",
       "\n",
       "    .dataframe tbody tr th {\n",
       "        vertical-align: top;\n",
       "    }\n",
       "\n",
       "    .dataframe thead th {\n",
       "        text-align: right;\n",
       "    }\n",
       "</style>\n",
       "<table border=\"1\" class=\"dataframe\">\n",
       "  <thead>\n",
       "    <tr style=\"text-align: right;\">\n",
       "      <th></th>\n",
       "      <th>x1</th>\n",
       "      <th>x2</th>\n",
       "      <th>y</th>\n",
       "    </tr>\n",
       "  </thead>\n",
       "  <tbody>\n",
       "    <tr>\n",
       "      <th>0</th>\n",
       "      <td>1.0</td>\n",
       "      <td>1.0</td>\n",
       "      <td>5.000000</td>\n",
       "    </tr>\n",
       "    <tr>\n",
       "      <th>1</th>\n",
       "      <td>12.0</td>\n",
       "      <td>12.0</td>\n",
       "      <td>21.157714</td>\n",
       "    </tr>\n",
       "    <tr>\n",
       "      <th>2</th>\n",
       "      <td>23.0</td>\n",
       "      <td>23.0</td>\n",
       "      <td>34.375468</td>\n",
       "    </tr>\n",
       "    <tr>\n",
       "      <th>3</th>\n",
       "      <td>34.0</td>\n",
       "      <td>34.0</td>\n",
       "      <td>46.958447</td>\n",
       "    </tr>\n",
       "    <tr>\n",
       "      <th>4</th>\n",
       "      <td>45.0</td>\n",
       "      <td>45.0</td>\n",
       "      <td>59.227573</td>\n",
       "    </tr>\n",
       "  </tbody>\n",
       "</table>\n",
       "</div>"
      ],
      "text/plain": [
       "     x1    x2          y\n",
       "0   1.0   1.0   5.000000\n",
       "1  12.0  12.0  21.157714\n",
       "2  23.0  23.0  34.375468\n",
       "3  34.0  34.0  46.958447\n",
       "4  45.0  45.0  59.227573"
      ]
     },
     "execution_count": 24,
     "metadata": {},
     "output_type": "execute_result"
    }
   ],
   "source": [
    "df.head()"
   ]
  },
  {
   "cell_type": "code",
   "execution_count": 28,
   "metadata": {},
   "outputs": [],
   "source": [
    "# Separamos en train y test\n",
    "\n",
    "train = df.iloc[:7]\n",
    "test = df.iloc[7:]\n",
    "\n",
    "train_X = train.drop('y', axis=1)\n",
    "train_y = train.y\n",
    "\n",
    "test_X = test.drop('y', axis=1)\n",
    "test_y = test.y"
   ]
  },
  {
   "cell_type": "code",
   "execution_count": 29,
   "metadata": {},
   "outputs": [
    {
     "data": {
      "text/html": [
       "<div>\n",
       "<style scoped>\n",
       "    .dataframe tbody tr th:only-of-type {\n",
       "        vertical-align: middle;\n",
       "    }\n",
       "\n",
       "    .dataframe tbody tr th {\n",
       "        vertical-align: top;\n",
       "    }\n",
       "\n",
       "    .dataframe thead th {\n",
       "        text-align: right;\n",
       "    }\n",
       "</style>\n",
       "<table border=\"1\" class=\"dataframe\">\n",
       "  <thead>\n",
       "    <tr style=\"text-align: right;\">\n",
       "      <th></th>\n",
       "      <th>x1</th>\n",
       "      <th>x2</th>\n",
       "    </tr>\n",
       "  </thead>\n",
       "  <tbody>\n",
       "    <tr>\n",
       "      <th>7</th>\n",
       "      <td>78.0</td>\n",
       "      <td>78.0</td>\n",
       "    </tr>\n",
       "    <tr>\n",
       "      <th>8</th>\n",
       "      <td>89.0</td>\n",
       "      <td>89.0</td>\n",
       "    </tr>\n",
       "    <tr>\n",
       "      <th>9</th>\n",
       "      <td>100.0</td>\n",
       "      <td>100.0</td>\n",
       "    </tr>\n",
       "  </tbody>\n",
       "</table>\n",
       "</div>"
      ],
      "text/plain": [
       "      x1     x2\n",
       "7   78.0   78.0\n",
       "8   89.0   89.0\n",
       "9  100.0  100.0"
      ]
     },
     "execution_count": 29,
     "metadata": {},
     "output_type": "execute_result"
    }
   ],
   "source": [
    "test_X"
   ]
  },
  {
   "cell_type": "code",
   "execution_count": 30,
   "metadata": {},
   "outputs": [
    {
     "name": "stdout",
     "output_type": "stream",
     "text": [
      "\n",
      "[ 97.30728538 110.16021944 123.0131535 ]\n",
      "RMSE: 3.4441125292015107\n",
      "\n"
     ]
    }
   ],
   "source": [
    "#  verificacmos si la regresión lineal puede predecir correctamente\n",
    "\n",
    "m1 = LinearRegression()\n",
    "fit1 = m1.fit(train_X, train_y)\n",
    "preds = fit1.predict(test_X)\n",
    "print(f\"\\n{preds}\")\n",
    "print(f\"RMSE: {np.sqrt(mean_squared_error(test_y, preds))}\\n\")"
   ]
  },
  {
   "cell_type": "code",
   "execution_count": 31,
   "metadata": {},
   "outputs": [
    {
     "name": "stdout",
     "output_type": "stream",
     "text": [
      "      x1         x2\n",
      "7   78.0  35.327043\n",
      "8   89.0  37.735925\n",
      "9  100.0  40.000000\n",
      "\n",
      "Pred:[ 94.9049311  106.52812806 118.06620819]\n",
      "RMSE: 0.36244368054867443\n",
      "\n"
     ]
    }
   ],
   "source": [
    "# Las predicciones no son malas, pero hagamos algunos cálculos sobre las características de entrada para mejorar\n",
    "# ¿Qué pasa si sacamos la raíz cuadrada de X2 y multiplicamos por 2?\n",
    "\n",
    "train_X.x2 = 4 * np.sqrt(train_X.x2)\n",
    "\n",
    "test_X.x2 = 4 * np.sqrt(test_X.x2)\n",
    "\n",
    "print(test_X)\n",
    "\n",
    "m2 = LinearRegression()\n",
    "\n",
    "fit2 = m2.fit(train_X, train_y)\n",
    "\n",
    "preds = fit2.predict(test_X)\n",
    "\n",
    "print(f\"\\nPred:{preds}\")\n",
    "\n",
    "print(f\"RMSE: {np.sqrt(mean_squared_error(test_y, preds))}\\n\")"
   ]
  },
  {
   "cell_type": "code",
   "execution_count": 32,
   "metadata": {},
   "outputs": [],
   "source": [
    "# Restauración\n",
    "\n",
    "train = df.iloc[:7]\n",
    "test = df.iloc[7:]\n",
    "\n",
    "train_X = train.drop('y', axis=1)\n",
    "train_y = train.y\n",
    "\n",
    "test_X = test.drop('y', axis=1)\n",
    "test_y = test.y"
   ]
  },
  {
   "cell_type": "code",
   "execution_count": 33,
   "metadata": {},
   "outputs": [],
   "source": [
    "# Creación de clase transformadora\n",
    "\n",
    "class ExperimentalTransformer(BaseEstimator, TransformerMixin):\n",
    "  def __init__(self):\n",
    "    print('\\n>>>>>>>init() called.\\n')\n",
    "\n",
    "  def fit(self, X, y = None):\n",
    "    print('\\n>>>>>>>fit() called.\\n')\n",
    "    return self\n",
    "\n",
    "  def transform(self, X, y = None):\n",
    "    print('\\n>>>>>>>transform() called.\\n')\n",
    "    X_ = X.copy() \n",
    "    X_.x2 = 4 * np.sqrt(X_.x2)\n",
    "    return X_"
   ]
  },
  {
   "cell_type": "code",
   "execution_count": 34,
   "metadata": {},
   "outputs": [
    {
     "name": "stdout",
     "output_type": "stream",
     "text": [
      "create pipeline 1\n",
      "fit pipeline 1\n",
      "predict via pipeline 1\n",
      "\n",
      "[ 97.30728538 110.16021944 123.0131535 ]\n",
      "RMSE: 3.4441125292015107\n",
      "\n"
     ]
    }
   ],
   "source": [
    "# Prueba pipeline sin transformación\n",
    "\n",
    "\n",
    "print(\"create pipeline 1\")\n",
    "pipe1 = Pipeline(steps=[\n",
    "                       ('linear_model', LinearRegression())\n",
    "])\n",
    "\n",
    "print(\"fit pipeline 1\")\n",
    "pipe1.fit(train_X, train_y)\n",
    "\n",
    "print(\"predict via pipeline 1\")\n",
    "preds1 = pipe1.predict(test_X)\n",
    "\n",
    "print(f\"\\n{preds1}\")  # should be [13.72113586 16.93334467]\n",
    "print(f\"RMSE: {np.sqrt(mean_squared_error(test_y, preds1))}\\n\")"
   ]
  },
  {
   "cell_type": "code",
   "execution_count": 35,
   "metadata": {},
   "outputs": [
    {
     "name": "stdout",
     "output_type": "stream",
     "text": [
      "create pipeline 2\n",
      "\n",
      ">>>>>>>init() called.\n",
      "\n",
      "fit pipeline 2\n",
      "\n",
      ">>>>>>>fit() called.\n",
      "\n",
      "\n",
      ">>>>>>>transform() called.\n",
      "\n",
      "predict via pipeline 2\n",
      "\n",
      ">>>>>>>transform() called.\n",
      "\n",
      "\n",
      "[ 94.9049311  106.52812806 118.06620819]\n",
      "RMSE: 0.36244368054867443\n",
      "\n"
     ]
    }
   ],
   "source": [
    "# Prueba pipeline con transformación\n",
    "print(\"create pipeline 2\")\n",
    "pipe2 = Pipeline(steps=[\n",
    "                       ('experimental_trans', ExperimentalTransformer()),    # esto dispara una llamda a __init__\n",
    "                       ('linear_model', LinearRegression())\n",
    "])\n",
    "\n",
    "\n",
    "print(\"fit pipeline 2\")\n",
    "pipe2.fit(train_X, train_y)\n",
    "\n",
    "print(\"predict via pipeline 2\")\n",
    "preds2 = pipe2.predict(test_X)\n",
    "\n",
    "print(f\"\\n{preds2}\")  # should be [14. 17.]\n",
    "print(f\"RMSE: {np.sqrt(mean_squared_error(test_y, preds2))}\\n\")\n",
    "\n"
   ]
  },
  {
   "cell_type": "code",
   "execution_count": null,
   "metadata": {},
   "outputs": [],
   "source": []
  }
 ],
 "metadata": {
  "kernelspec": {
   "display_name": "base",
   "language": "python",
   "name": "python3"
  },
  "language_info": {
   "codemirror_mode": {
    "name": "ipython",
    "version": 3
   },
   "file_extension": ".py",
   "mimetype": "text/x-python",
   "name": "python",
   "nbconvert_exporter": "python",
   "pygments_lexer": "ipython3",
   "version": "3.10.9"
  },
  "orig_nbformat": 4
 },
 "nbformat": 4,
 "nbformat_minor": 2
}
