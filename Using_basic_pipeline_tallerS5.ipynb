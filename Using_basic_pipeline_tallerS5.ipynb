{
 "cells": [
  {
   "cell_type": "code",
   "execution_count": 5,
   "metadata": {},
   "outputs": [],
   "source": [
    "import numpy as np\n",
    "import pandas as pd\n",
    "import warnings\n",
    "import math\n",
    "warnings.filterwarnings('ignore')\n",
    "from sklearn.metrics import mean_squared_error\n",
    "\n",
    "from sklearn.preprocessing import StandardScaler, PowerTransformer\n",
    "from sklearn.compose import TransformedTargetRegressor\n",
    "from sklearn.pipeline import FeatureUnion, Pipeline, make_pipeline\n",
    "from sklearn.base import BaseEstimator, TransformerMixin\n",
    "\n",
    "from sklearn.linear_model import LinearRegression"
   ]
  },
  {
   "cell_type": "code",
   "execution_count": 47,
   "metadata": {},
   "outputs": [],
   "source": [
    "x1 = [1,6,8,3,7,9,10,15,20]\n",
    "x2 = [4,5,6,7,8,1,12,18,27]\n",
    "y = [9,15,18,14,18,13,24,32,41]\n",
    "\n",
    "\n",
    "data = pd.DataFrame({'x1': x1,'x2':x2, 'y':y})\n",
    "\n",
    "\n"
   ]
  },
  {
   "cell_type": "code",
   "execution_count": 48,
   "metadata": {},
   "outputs": [],
   "source": [
    "df = pd.DataFrame(data)"
   ]
  },
  {
   "cell_type": "code",
   "execution_count": 49,
   "metadata": {},
   "outputs": [
    {
     "data": {
      "text/html": [
       "<div>\n",
       "<style scoped>\n",
       "    .dataframe tbody tr th:only-of-type {\n",
       "        vertical-align: middle;\n",
       "    }\n",
       "\n",
       "    .dataframe tbody tr th {\n",
       "        vertical-align: top;\n",
       "    }\n",
       "\n",
       "    .dataframe thead th {\n",
       "        text-align: right;\n",
       "    }\n",
       "</style>\n",
       "<table border=\"1\" class=\"dataframe\">\n",
       "  <thead>\n",
       "    <tr style=\"text-align: right;\">\n",
       "      <th></th>\n",
       "      <th>x1</th>\n",
       "      <th>x2</th>\n",
       "      <th>y</th>\n",
       "    </tr>\n",
       "  </thead>\n",
       "  <tbody>\n",
       "    <tr>\n",
       "      <th>0</th>\n",
       "      <td>1</td>\n",
       "      <td>4</td>\n",
       "      <td>9</td>\n",
       "    </tr>\n",
       "    <tr>\n",
       "      <th>1</th>\n",
       "      <td>6</td>\n",
       "      <td>5</td>\n",
       "      <td>15</td>\n",
       "    </tr>\n",
       "    <tr>\n",
       "      <th>2</th>\n",
       "      <td>8</td>\n",
       "      <td>6</td>\n",
       "      <td>18</td>\n",
       "    </tr>\n",
       "    <tr>\n",
       "      <th>3</th>\n",
       "      <td>3</td>\n",
       "      <td>7</td>\n",
       "      <td>14</td>\n",
       "    </tr>\n",
       "    <tr>\n",
       "      <th>4</th>\n",
       "      <td>7</td>\n",
       "      <td>8</td>\n",
       "      <td>18</td>\n",
       "    </tr>\n",
       "  </tbody>\n",
       "</table>\n",
       "</div>"
      ],
      "text/plain": [
       "   x1  x2   y\n",
       "0   1   4   9\n",
       "1   6   5  15\n",
       "2   8   6  18\n",
       "3   3   7  14\n",
       "4   7   8  18"
      ]
     },
     "execution_count": 49,
     "metadata": {},
     "output_type": "execute_result"
    }
   ],
   "source": [
    "df.head()"
   ]
  },
  {
   "cell_type": "code",
   "execution_count": 50,
   "metadata": {},
   "outputs": [],
   "source": [
    "# Separamos en train y test\n",
    "\n",
    "train = df.iloc[:7]\n",
    "test = df.iloc[7:]\n",
    "\n",
    "train_X = train.drop('y', axis=1)\n",
    "train_y = train.y\n",
    "\n",
    "test_X = test.drop('y', axis=1)\n",
    "test_y = test.y"
   ]
  },
  {
   "cell_type": "code",
   "execution_count": 51,
   "metadata": {},
   "outputs": [
    {
     "data": {
      "text/html": [
       "<div>\n",
       "<style scoped>\n",
       "    .dataframe tbody tr th:only-of-type {\n",
       "        vertical-align: middle;\n",
       "    }\n",
       "\n",
       "    .dataframe tbody tr th {\n",
       "        vertical-align: top;\n",
       "    }\n",
       "\n",
       "    .dataframe thead th {\n",
       "        text-align: right;\n",
       "    }\n",
       "</style>\n",
       "<table border=\"1\" class=\"dataframe\">\n",
       "  <thead>\n",
       "    <tr style=\"text-align: right;\">\n",
       "      <th></th>\n",
       "      <th>x1</th>\n",
       "      <th>x2</th>\n",
       "    </tr>\n",
       "  </thead>\n",
       "  <tbody>\n",
       "    <tr>\n",
       "      <th>7</th>\n",
       "      <td>15</td>\n",
       "      <td>18</td>\n",
       "    </tr>\n",
       "    <tr>\n",
       "      <th>8</th>\n",
       "      <td>20</td>\n",
       "      <td>27</td>\n",
       "    </tr>\n",
       "  </tbody>\n",
       "</table>\n",
       "</div>"
      ],
      "text/plain": [
       "   x1  x2\n",
       "7  15  18\n",
       "8  20  27"
      ]
     },
     "execution_count": 51,
     "metadata": {},
     "output_type": "execute_result"
    }
   ],
   "source": [
    "test_X"
   ]
  },
  {
   "cell_type": "code",
   "execution_count": 52,
   "metadata": {},
   "outputs": [
    {
     "name": "stdout",
     "output_type": "stream",
     "text": [
      "\n",
      "[34.16539092 46.68698742]\n",
      "RMSE: 4.302949210938829\n",
      "\n"
     ]
    }
   ],
   "source": [
    "#  verificacmos si la regresión lineal puede predecir correctamente\n",
    "\n",
    "m1 = LinearRegression()\n",
    "fit1 = m1.fit(train_X, train_y)\n",
    "preds = fit1.predict(test_X)\n",
    "print(f\"\\n{preds}\")\n",
    "print(f\"RMSE: {np.sqrt(mean_squared_error(test_y, preds))}\\n\")"
   ]
  },
  {
   "cell_type": "code",
   "execution_count": 55,
   "metadata": {},
   "outputs": [
    {
     "name": "stdout",
     "output_type": "stream",
     "text": [
      "   x1         x2\n",
      "7  15  16.970563\n",
      "8  20  20.784610\n",
      "\n",
      "Pred:[32.014806   40.80754258]\n",
      "RMSE: 0.13649006477128428\n",
      "\n"
     ]
    }
   ],
   "source": [
    "# Las predicciones no son malas, pero hagamos algunos cálculos sobre las características de entrada para mejorar\n",
    "# ¿Qué pasa si sacamos la raíz cuadrada de X2 y multiplicamos por 2?\n",
    "\n",
    "train_X.x2 = 4 * np.sqrt(train_X.x2)\n",
    "\n",
    "test_X.x2 = 4 * np.sqrt(test_X.x2)\n",
    "\n",
    "print(test_X)\n",
    "\n",
    "m2 = LinearRegression()\n",
    "\n",
    "fit2 = m2.fit(train_X, train_y)\n",
    "\n",
    "preds = fit2.predict(test_X)\n",
    "\n",
    "print(f\"\\nPred:{preds}\")\n",
    "\n",
    "print(f\"RMSE: {np.sqrt(mean_squared_error(test_y, preds))}\\n\")"
   ]
  },
  {
   "cell_type": "code",
   "execution_count": 56,
   "metadata": {},
   "outputs": [],
   "source": [
    "# Restauración\n",
    "\n",
    "train = df.iloc[:7]\n",
    "test = df.iloc[7:]\n",
    "\n",
    "train_X = train.drop('y', axis=1)\n",
    "train_y = train.y\n",
    "\n",
    "test_X = test.drop('y', axis=1)\n",
    "test_y = test.y"
   ]
  },
  {
   "cell_type": "code",
   "execution_count": 63,
   "metadata": {},
   "outputs": [],
   "source": [
    "# Creación de clase transformadora\n",
    "\n",
    "class ExperimentalTransformer(BaseEstimator, TransformerMixin):\n",
    "  def __init__(self):\n",
    "    print('\\n>>>>>>>init() called.\\n')\n",
    "\n",
    "  def fit(self, X, y = None):\n",
    "    print('\\n>>>>>>>fit() called.\\n')\n",
    "    return self\n",
    "\n",
    "  def transform(self, X, y = None):\n",
    "    print('\\n>>>>>>>transform() called.\\n')\n",
    "    X_ = X.copy() \n",
    "    X_.x2 = 4 * np.sqrt(X_.x2)\n",
    "    return X_"
   ]
  },
  {
   "cell_type": "code",
   "execution_count": 64,
   "metadata": {},
   "outputs": [
    {
     "name": "stdout",
     "output_type": "stream",
     "text": [
      "create pipeline 1\n",
      "fit pipeline 1\n",
      "predict via pipeline 1\n",
      "\n",
      "[34.16539092 46.68698742]\n",
      "RMSE: 4.302949210938829\n",
      "\n"
     ]
    }
   ],
   "source": [
    "# Prueba pipeline sin transformación\n",
    "\n",
    "\n",
    "print(\"create pipeline 1\")\n",
    "pipe1 = Pipeline(steps=[\n",
    "                       ('linear_model', LinearRegression())\n",
    "])\n",
    "\n",
    "print(\"fit pipeline 1\")\n",
    "pipe1.fit(train_X, train_y)\n",
    "\n",
    "print(\"predict via pipeline 1\")\n",
    "preds1 = pipe1.predict(test_X)\n",
    "\n",
    "print(f\"\\n{preds1}\")  # should be [13.72113586 16.93334467]\n",
    "print(f\"RMSE: {np.sqrt(mean_squared_error(test_y, preds1))}\\n\")"
   ]
  },
  {
   "cell_type": "code",
   "execution_count": 60,
   "metadata": {},
   "outputs": [
    {
     "name": "stdout",
     "output_type": "stream",
     "text": [
      "create pipeline 2\n",
      "\n",
      ">>>>>>>init() called.\n",
      "\n",
      "fit pipeline 2\n",
      "\n",
      ">>>>>>>fit() called.\n",
      "\n",
      "\n",
      ">>>>>>>transform() called.\n",
      "\n",
      "predict via pipeline 2\n",
      "\n",
      ">>>>>>>transform() called.\n",
      "\n",
      "\n",
      "[32.014806   40.80754258]\n",
      "RMSE: 0.13649006477128428\n",
      "\n"
     ]
    }
   ],
   "source": [
    "# Prueba pipeline con transformación\n",
    "print(\"create pipeline 2\")\n",
    "pipe2 = Pipeline(steps=[\n",
    "                       ('experimental_trans', ExperimentalTransformer()),    # esto dispara una llamda a __init__\n",
    "                       ('linear_model', LinearRegression())\n",
    "])\n",
    "\n",
    "\n",
    "print(\"fit pipeline 2\")\n",
    "pipe2.fit(train_X, train_y)\n",
    "\n",
    "print(\"predict via pipeline 2\")\n",
    "preds2 = pipe2.predict(test_X)\n",
    "\n",
    "print(f\"\\n{preds2}\")  # should be [14. 17.]\n",
    "print(f\"RMSE: {np.sqrt(mean_squared_error(test_y, preds2))}\\n\")\n",
    "\n"
   ]
  },
  {
   "cell_type": "code",
   "execution_count": null,
   "metadata": {},
   "outputs": [],
   "source": []
  }
 ],
 "metadata": {
  "kernelspec": {
   "display_name": "base",
   "language": "python",
   "name": "python3"
  },
  "language_info": {
   "codemirror_mode": {
    "name": "ipython",
    "version": 3
   },
   "file_extension": ".py",
   "mimetype": "text/x-python",
   "name": "python",
   "nbconvert_exporter": "python",
   "pygments_lexer": "ipython3",
   "version": "3.10.9"
  },
  "orig_nbformat": 4
 },
 "nbformat": 4,
 "nbformat_minor": 2
}
